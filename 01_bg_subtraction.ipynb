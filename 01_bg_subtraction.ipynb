{
  "nbformat": 4,
  "nbformat_minor": 0,
  "metadata": {
    "colab": {
      "provenance": []
    },
    "kernelspec": {
      "name": "python3",
      "display_name": "Python 3"
    },
    "language_info": {
      "name": "python"
    }
  },
  "cells": [
    {
      "cell_type": "markdown",
      "source": [
        "## ライブラリ類のインポートなど"
      ],
      "metadata": {
        "id": "LBJu0TQ_yse_"
      }
    },
    {
      "cell_type": "code",
      "execution_count": null,
      "metadata": {
        "id": "Ce79DUuuhV09"
      },
      "outputs": [],
      "source": [
        "import cv2\n",
        "import numpy as np  # PythonのOpenCVでは、画像はnumpyのarrayとして管理される\n",
        "from PIL import Image\n",
        "import matplotlib.pyplot as plt\n",
        "%matplotlib inline\n",
        "\n",
        "def imshow(img):  # Colab用imshow関数として\n",
        "  if img.ndim == 3:\n",
        "    img = cv2.cvtColor(img,cv2.COLOR_BGR2RGB)\n",
        "    display(Image.fromarray(img))\n",
        "  else:\n",
        "    display(Image.fromarray(img))"
      ]
    },
    {
      "cell_type": "markdown",
      "source": [
        "## 背景差分法の実装"
      ],
      "metadata": {
        "id": "LnqAV7c8hgL1"
      }
    },
    {
      "cell_type": "markdown",
      "source": [
        "Step 1: 前景・背景間の差分を計算"
      ],
      "metadata": {
        "id": "RKdgAHYmzy4b"
      }
    },
    {
      "cell_type": "code",
      "source": [
        "# 画像読み込み\n",
        "bg = cv2.imread(\"bg.png\").astype(int) # 背景（BGR）\n",
        "fg = cv2.imread(\"fg.png\").astype(int) # 前景（BGR）\n",
        "\n",
        "# L2ノルム\n",
        "print(\"L2 norm\")\n",
        "sub = np.linalg.norm(fg-bg,axis=2).astype(np.uint8)\n",
        "# sub = np.sqrt(np.sum((fg-bg)*(fg-bg),axis=2)).astype(np.uint8)\n",
        "imshow(sub)\n",
        "\n",
        "# L1ノルム\n",
        "# print(\"L1 norm\")\n",
        "# sub_L1 = np.sum(abs(fg-bg),axis=2).astype(np.uint8)\n",
        "# imshow(sub_L1)"
      ],
      "metadata": {
        "id": "LyhNrnaJhc7p"
      },
      "execution_count": null,
      "outputs": []
    },
    {
      "cell_type": "markdown",
      "source": [
        "Step 2: 2値化"
      ],
      "metadata": {
        "id": "rfrcEtRmzs13"
      }
    },
    {
      "cell_type": "code",
      "source": [
        "# 2値化\n",
        "thresh = 32\n",
        "_, binary = cv2.threshold(sub, thresh, 255, cv2.THRESH_BINARY)\n",
        "print(\"Binarized by\", thresh)\n",
        "imshow(binary)\n",
        "\n",
        "# 大津の2値化\n",
        "# retval, binary_otsu = cv2.threshold(sub,0,255,cv2.THRESH_OTSU)\n",
        "# print(\"Otsu's thresholding: threshold=\",retval)\n",
        "# imshow(binary_otsu)"
      ],
      "metadata": {
        "id": "bDBWlQ8qjZWx"
      },
      "execution_count": null,
      "outputs": []
    },
    {
      "cell_type": "markdown",
      "source": [
        "Step 3 (Optional): モルフォロジ処理"
      ],
      "metadata": {
        "id": "ZEVgOsFBz5e5"
      }
    },
    {
      "cell_type": "code",
      "source": [
        "# 8近傍カーネル（8近傍と自身がすべて1）\n",
        "kernel8 = np.ones((3,3),np.uint8)\n",
        "\n",
        "# a combination of opening & closing\n",
        "print(\"combination of opening & closing\")\n",
        "dst = cv2.morphologyEx(binary, cv2.MORPH_CLOSE, kernel8,iterations=2)\n",
        "dst = cv2.morphologyEx(dst, cv2.MORPH_OPEN, kernel8,iterations=2)\n",
        "imshow(dst)"
      ],
      "metadata": {
        "id": "tzAIWIZezIG5"
      },
      "execution_count": null,
      "outputs": []
    },
    {
      "cell_type": "code",
      "source": [],
      "metadata": {
        "id": "aJyYl9_z0Zz0"
      },
      "execution_count": null,
      "outputs": []
    }
  ]
}